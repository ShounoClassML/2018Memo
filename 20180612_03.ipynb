{
 "cells": [
  {
   "cell_type": "markdown",
   "metadata": {},
   "source": [
    "# 06/12 3限のノートブック"
   ]
  },
  {
   "cell_type": "code",
   "execution_count": 1,
   "metadata": {},
   "outputs": [],
   "source": [
    "coltbl = {'apple':'red', 'banana':'yellow'}"
   ]
  },
  {
   "cell_type": "code",
   "execution_count": 2,
   "metadata": {},
   "outputs": [
    {
     "data": {
      "text/plain": [
       "'red'"
      ]
     },
     "execution_count": 2,
     "metadata": {},
     "output_type": "execute_result"
    }
   ],
   "source": [
    "coltbl['apple']"
   ]
  },
  {
   "cell_type": "code",
   "execution_count": 3,
   "metadata": {},
   "outputs": [],
   "source": [
    "col = {}"
   ]
  },
  {
   "cell_type": "code",
   "execution_count": 4,
   "metadata": {},
   "outputs": [],
   "source": [
    "col['apple'] = 'red'\n",
    "col['banana'] = 'yellow'\n",
    "col['peach'] = 'pink'\n",
    "col['りんご'] = '赤'"
   ]
  },
  {
   "cell_type": "code",
   "execution_count": 5,
   "metadata": {},
   "outputs": [
    {
     "data": {
      "text/plain": [
       "{'apple': 'red', 'banana': 'yellow', 'peach': 'pink', 'りんご': '赤'}"
      ]
     },
     "execution_count": 5,
     "metadata": {},
     "output_type": "execute_result"
    }
   ],
   "source": [
    "col"
   ]
  },
  {
   "cell_type": "code",
   "execution_count": 6,
   "metadata": {},
   "outputs": [
    {
     "data": {
      "text/plain": [
       "'赤'"
      ]
     },
     "execution_count": 6,
     "metadata": {},
     "output_type": "execute_result"
    }
   ],
   "source": [
    "col['りんご']"
   ]
  },
  {
   "cell_type": "code",
   "execution_count": null,
   "metadata": {},
   "outputs": [],
   "source": []
  },
  {
   "cell_type": "code",
   "execution_count": 12,
   "metadata": {},
   "outputs": [],
   "source": [
    "tpl = (1, 2, 3, 4)   # タプル\n",
    "lst = [1, 2, 3, 4]   # リスト\n",
    "dic = {'one':1, 'two':2, 'three':3} # 辞書"
   ]
  },
  {
   "cell_type": "code",
   "execution_count": 14,
   "metadata": {},
   "outputs": [
    {
     "data": {
      "text/plain": [
       "(1, 2, 2)"
      ]
     },
     "execution_count": 14,
     "metadata": {},
     "output_type": "execute_result"
    }
   ],
   "source": [
    "tpl[0], lst[1], dic['two']"
   ]
  },
  {
   "cell_type": "code",
   "execution_count": 9,
   "metadata": {},
   "outputs": [
    {
     "ename": "TypeError",
     "evalue": "'tuple' object does not support item assignment",
     "output_type": "error",
     "traceback": [
      "\u001b[0;31m---------------------------------------------------------------------------\u001b[0m",
      "\u001b[0;31mTypeError\u001b[0m                                 Traceback (most recent call last)",
      "\u001b[0;32m<ipython-input-9-be528aaa157e>\u001b[0m in \u001b[0;36m<module>\u001b[0;34m()\u001b[0m\n\u001b[0;32m----> 1\u001b[0;31m \u001b[0mtpl\u001b[0m\u001b[0;34m[\u001b[0m\u001b[0;36m0\u001b[0m\u001b[0;34m]\u001b[0m \u001b[0;34m=\u001b[0m \u001b[0;36m100\u001b[0m\u001b[0;34m\u001b[0m\u001b[0m\n\u001b[0m",
      "\u001b[0;31mTypeError\u001b[0m: 'tuple' object does not support item assignment"
     ]
    }
   ],
   "source": [
    "tpl[0] = 100"
   ]
  },
  {
   "cell_type": "code",
   "execution_count": 15,
   "metadata": {},
   "outputs": [],
   "source": [
    "a = [10, 20, 30]\n",
    "b = a"
   ]
  },
  {
   "cell_type": "code",
   "execution_count": 16,
   "metadata": {},
   "outputs": [],
   "source": [
    "b[1] = 200"
   ]
  },
  {
   "cell_type": "code",
   "execution_count": 17,
   "metadata": {},
   "outputs": [
    {
     "data": {
      "text/plain": [
       "[10, 200, 30]"
      ]
     },
     "execution_count": 17,
     "metadata": {},
     "output_type": "execute_result"
    }
   ],
   "source": [
    "b"
   ]
  },
  {
   "cell_type": "code",
   "execution_count": 18,
   "metadata": {},
   "outputs": [
    {
     "data": {
      "text/plain": [
       "[10, 200, 30]"
      ]
     },
     "execution_count": 18,
     "metadata": {},
     "output_type": "execute_result"
    }
   ],
   "source": [
    "a"
   ]
  },
  {
   "cell_type": "code",
   "execution_count": 19,
   "metadata": {},
   "outputs": [],
   "source": [
    "a = [1, 2, 3]"
   ]
  },
  {
   "cell_type": "code",
   "execution_count": null,
   "metadata": {},
   "outputs": [],
   "source": [
    "b = a.copy()  # save the original a"
   ]
  },
  {
   "cell_type": "code",
   "execution_count": 21,
   "metadata": {},
   "outputs": [
    {
     "data": {
      "text/plain": [
       "[1, 2, 3]"
      ]
     },
     "execution_count": 21,
     "metadata": {},
     "output_type": "execute_result"
    }
   ],
   "source": [
    "b"
   ]
  },
  {
   "cell_type": "code",
   "execution_count": 22,
   "metadata": {},
   "outputs": [
    {
     "data": {
      "text/plain": [
       "[1, 200, 3]"
      ]
     },
     "execution_count": 22,
     "metadata": {},
     "output_type": "execute_result"
    }
   ],
   "source": [
    "b[1] = 200\n",
    "b"
   ]
  },
  {
   "cell_type": "code",
   "execution_count": 23,
   "metadata": {},
   "outputs": [
    {
     "data": {
      "text/plain": [
       "[1, 2, 3]"
      ]
     },
     "execution_count": 23,
     "metadata": {},
     "output_type": "execute_result"
    }
   ],
   "source": [
    "a"
   ]
  },
  {
   "cell_type": "markdown",
   "metadata": {},
   "source": [
    "## 制御構造について"
   ]
  },
  {
   "cell_type": "code",
   "execution_count": 25,
   "metadata": {},
   "outputs": [],
   "source": [
    "a = 23"
   ]
  },
  {
   "cell_type": "code",
   "execution_count": 29,
   "metadata": {},
   "outputs": [
    {
     "name": "stdout",
     "output_type": "stream",
     "text": [
      "odd number\n"
     ]
    }
   ],
   "source": [
    "if a % 2 == 0:\n",
    "    print('even number')\n",
    "else:\n",
    "    print('odd number')"
   ]
  },
  {
   "cell_type": "code",
   "execution_count": 30,
   "metadata": {},
   "outputs": [
    {
     "name": "stdout",
     "output_type": "stream",
     "text": [
      "A lot\n"
     ]
    }
   ],
   "source": [
    "if a == 1:\n",
    "    print(1)\n",
    "elif a == 2:\n",
    "    print(2)\n",
    "else:\n",
    "    print('A lot')"
   ]
  },
  {
   "cell_type": "code",
   "execution_count": 31,
   "metadata": {},
   "outputs": [
    {
     "name": "stdout",
     "output_type": "stream",
     "text": [
      "A lot\n"
     ]
    }
   ],
   "source": [
    "run condition.py"
   ]
  },
  {
   "cell_type": "code",
   "execution_count": 35,
   "metadata": {},
   "outputs": [
    {
     "name": "stdout",
     "output_type": "stream",
     "text": [
      "10\n",
      "20\n",
      "30\n",
      "40\n"
     ]
    }
   ],
   "source": [
    "a2 = []\n",
    "for a in [10, 20, 30, 40]:\n",
    "    print(a)\n",
    "    a2.append(a**2)"
   ]
  },
  {
   "cell_type": "code",
   "execution_count": 34,
   "metadata": {},
   "outputs": [
    {
     "data": {
      "text/plain": [
       "[100, 400, 900, 1600]"
      ]
     },
     "execution_count": 34,
     "metadata": {},
     "output_type": "execute_result"
    }
   ],
   "source": [
    "a2"
   ]
  },
  {
   "cell_type": "code",
   "execution_count": 36,
   "metadata": {},
   "outputs": [
    {
     "name": "stdout",
     "output_type": "stream",
     "text": [
      "0\n",
      "1\n",
      "2\n",
      "3\n",
      "4\n",
      "5\n",
      "6\n",
      "7\n",
      "8\n",
      "9\n"
     ]
    }
   ],
   "source": [
    "for a in range(10):\n",
    "    print(a)"
   ]
  },
  {
   "cell_type": "code",
   "execution_count": 37,
   "metadata": {},
   "outputs": [
    {
     "name": "stdout",
     "output_type": "stream",
     "text": [
      "Python is powerful\n",
      "Python is cool\n",
      "Python is readable\n"
     ]
    }
   ],
   "source": [
    "for word in ('powerful', 'cool', 'readable'):\n",
    "    print('Python is %s' % (word))"
   ]
  },
  {
   "cell_type": "code",
   "execution_count": 1,
   "metadata": {},
   "outputs": [
    {
     "name": "stdout",
     "output_type": "stream",
     "text": [
      "/home3/staff/sa101177/2018.Programming/2018pytuep1-shouno\n"
     ]
    }
   ],
   "source": [
    "%cd ../2018pytuep1-shouno/"
   ]
  },
  {
   "cell_type": "code",
   "execution_count": 2,
   "metadata": {},
   "outputs": [
    {
     "name": "stdout",
     "output_type": "stream",
     "text": [
      "README.md  \u001b[0m\u001b[01;34mans\u001b[0m/  fread1.py  weather1.py\r\n"
     ]
    }
   ],
   "source": [
    "ls"
   ]
  },
  {
   "cell_type": "code",
   "execution_count": 3,
   "metadata": {},
   "outputs": [
    {
     "name": "stdout",
     "output_type": "stream",
     "text": [
      "# -*- coding: utf-8 -*-\n",
      "\n",
      "f = open('fread1.py', 'r')    # f = open('README.md', 'r') なども試す\n",
      "data1 = f.read()              # ファイル全部を1つの文字列に読み込む\n",
      "f.close()\n",
      "\n",
      "print(data1)\n",
      "\n"
     ]
    }
   ],
   "source": [
    "run fread1.py"
   ]
  },
  {
   "cell_type": "code",
   "execution_count": 4,
   "metadata": {},
   "outputs": [],
   "source": [
    "f = open('README.md', 'r')\n",
    "d = f.read()\n",
    "f.close()"
   ]
  },
  {
   "cell_type": "code",
   "execution_count": 5,
   "metadata": {},
   "outputs": [
    {
     "data": {
      "text/plain": [
       "'# 演習1 \\n\\n## 学籍番号: 1500000\\n## 名前: 電通太郎\\n## e-mail: hoge@uec.ac.jp\\n\\n演習1のレポジトリです．\\n\\n  - ``fread1.py`` ファイルを読み込んで表示するスクリプトです．\\n    \\n  - ``weather1.py`` Livedoor お天気情報を引っ張り出すスクリプト\\n\\n実行方法は，``python コマンド + スクリプトファイル名`` で実効可能です．\\n\\nなお，これは演習で 課題ではないので *提出する必要はありません* が，\\nREADME.md の学籍番号，名前，e-mail は修正しておいてください．\\n\\n\\n'"
      ]
     },
     "execution_count": 5,
     "metadata": {},
     "output_type": "execute_result"
    }
   ],
   "source": [
    "d"
   ]
  },
  {
   "cell_type": "code",
   "execution_count": 6,
   "metadata": {},
   "outputs": [
    {
     "name": "stdout",
     "output_type": "stream",
     "text": [
      "福岡県 久留米 の天気\n"
     ]
    }
   ],
   "source": [
    "run weather1.py"
   ]
  },
  {
   "cell_type": "code",
   "execution_count": 7,
   "metadata": {},
   "outputs": [],
   "source": [
    "srcurl = 'http://weather.livedoor.com/forecast/webservice/json/v1?city=130030'"
   ]
  },
  {
   "cell_type": "code",
   "execution_count": 8,
   "metadata": {},
   "outputs": [],
   "source": [
    "import urllib.request"
   ]
  },
  {
   "cell_type": "code",
   "execution_count": 9,
   "metadata": {},
   "outputs": [],
   "source": [
    "f = urllib.request.urlopen(srcurl)\n",
    "d = f.read()\n",
    "f.close()"
   ]
  },
  {
   "cell_type": "code",
   "execution_count": 10,
   "metadata": {},
   "outputs": [
    {
     "data": {
      "text/plain": [
       "b'{\"pinpointLocations\":[{\"link\":\"http://weather.livedoor.com/area/forecast/1338100\",\"name\":\"\\\\u4e09\\\\u5b85\\\\u6751\"},{\"link\":\"http://weather.livedoor.com/area/forecast/1338200\",\"name\":\"\\\\u5fa1\\\\u8535\\\\u5cf6\\\\u6751\"},{\"link\":\"http://weather.livedoor.com/area/forecast/1340100\",\"name\":\"\\\\u516b\\\\u4e08\\\\u753a\"},{\"link\":\"http://weather.livedoor.com/area/forecast/1340200\",\"name\":\"\\\\u9752\\\\u30f6\\\\u5cf6\\\\u6751\"}],\"link\":\"http://weather.livedoor.com/area/forecast/130030\",\"forecasts\":[{\"dateLabel\":\"\\\\u4eca\\\\u65e5\",\"telop\":\"\\\\u66c7\\\\u308a\",\"date\":\"2018-06-12\",\"temperature\":{\"min\":null,\"max\":{\"celsius\":\"25\",\"fahrenheit\":\"77.0\"}},\"image\":{\"width\":50,\"url\":\"http://weather.livedoor.com/img/icon/8.gif\",\"title\":\"\\\\u66c7\\\\u308a\",\"height\":31}},{\"dateLabel\":\"\\\\u660e\\\\u65e5\",\"telop\":\"\\\\u6674\\\\u6642\\\\u3005\\\\u66c7\",\"date\":\"2018-06-13\",\"temperature\":{\"min\":{\"celsius\":\"21\",\"fahrenheit\":\"69.8\"},\"max\":{\"celsius\":\"25\",\"fahrenheit\":\"77.0\"}},\"image\":{\"width\":50,\"url\":\"http://weather.livedoor.com/img/icon/2.gif\",\"title\":\"\\\\u6674\\\\u6642\\\\u3005\\\\u66c7\",\"height\":31}},{\"dateLabel\":\"\\\\u660e\\\\u5f8c\\\\u65e5\",\"telop\":\"\\\\u66c7\\\\u6642\\\\u3005\\\\u6674\",\"date\":\"2018-06-14\",\"temperature\":{\"min\":null,\"max\":null},\"image\":{\"width\":50,\"url\":\"http://weather.livedoor.com/img/icon/9.gif\",\"title\":\"\\\\u66c7\\\\u6642\\\\u3005\\\\u6674\",\"height\":31}}],\"location\":{\"city\":\"\\\\u516b\\\\u4e08\\\\u5cf6\",\"area\":\"\\\\u95a2\\\\u6771\",\"prefecture\":\"\\\\u6771\\\\u4eac\\\\u90fd\"},\"publicTime\":\"2018-06-12T11:00:00\\\\u002b0900\",\"copyright\":{\"provider\":[{\"link\":\"http://tenki.jp/\",\"name\":\"\\\\u65e5\\\\u672c\\\\u6c17\\\\u8c61\\\\u5354\\\\u4f1a\"}],\"link\":\"http://weather.livedoor.com/\",\"title\":\"(C) LINE Corporation\",\"image\":{\"width\":118,\"link\":\"http://weather.livedoor.com/\",\"url\":\"http://weather.livedoor.com/img/cmn/livedoor.gif\",\"title\":\"livedoor \\\\u5929\\\\u6c17\\\\u60c5\\\\u5831\",\"height\":26}},\"title\":\"\\\\u6771\\\\u4eac\\\\u90fd \\\\u516b\\\\u4e08\\\\u5cf6 \\\\u306e\\\\u5929\\\\u6c17\",\"description\":{\"text\":\" \\\\u6771\\\\u5317\\\\u5730\\\\u65b9\\\\u306b\\\\u4f4e\\\\u6c17\\\\u5727\\\\u304c\\\\u3042\\\\u3063\\\\u3066\\\\u3001\\\\u307b\\\\u3068\\\\u3093\\\\u3069\\\\u505c\\\\u6ede\\\\u3057\\\\u3066\\\\u3044\\\\u307e\\\\u3059\\\\u3002\\\\n\\\\n\\\\u3010\\\\u95a2\\\\u6771\\\\u7532\\\\u4fe1\\\\u5730\\\\u65b9\\\\u3011\\\\n \\\\u95a2\\\\u6771\\\\u7532\\\\u4fe1\\\\u5730\\\\u65b9\\\\u306f\\\\u3001\\\\u66c7\\\\u308a\\\\u3084\\\\u6674\\\\u308c\\\\u3067\\\\u3001\\\\u96e8\\\\u306e\\\\u964d\\\\u3063\\\\u3066\\\\u3044\\\\u308b\\\\u6240\\\\u304c\\\\u3042\\\\u308a\\\\u307e\\\\u3059\\\\u3002\\\\n\\\\n 12\\\\u65e5\\\\u306f\\\\u3001\\\\u6c17\\\\u5727\\\\u306e\\\\u8c37\\\\u3084\\\\u4e0a\\\\u7a7a\\\\u306e\\\\u5bd2\\\\u6c17\\\\u306e\\\\u5f71\\\\u97ff\\\\u306b\\\\u3088\\\\u308a\\\\u3001\\\\u304a\\\\u304a\\\\u3080\\\\u306d\\\\u66c7\\\\u308a\\\\u3067\\\\u3001\\\\u96e8\\\\u3084\\\\u96f7\\\\n\\\\u96e8\\\\u3068\\\\u306a\\\\u308a\\\\u3001\\\\u6fc0\\\\u3057\\\\u304f\\\\u964d\\\\u308b\\\\u6240\\\\u304c\\\\u3042\\\\u308b\\\\u898b\\\\u8fbc\\\\u307f\\\\u3067\\\\u3059\\\\u3002\\\\n\\\\n 13\\\\u65e5\\\\u306f\\\\u3001\\\\u65e5\\\\u4e2d\\\\u306f\\\\u304a\\\\u304a\\\\u3080\\\\u306d\\\\u6674\\\\u308c\\\\u307e\\\\u3059\\\\u304c\\\\u3001\\\\u6e7f\\\\u3063\\\\u305f\\\\u7a7a\\\\u6c17\\\\u306e\\\\u5f71\\\\u97ff\\\\u3067\\\\u3001\\\\u671d\\\\u6669\\\\u3092\\\\u4e2d\\\\u5fc3\\\\n\\\\u306b\\\\u66c7\\\\u308a\\\\u3068\\\\u306a\\\\u308b\\\\u6240\\\\u304c\\\\u3042\\\\u308b\\\\u898b\\\\u8fbc\\\\u307f\\\\u3067\\\\u3059\\\\u3002\\\\n\\\\n \\\\u95a2\\\\u6771\\\\u8fd1\\\\u6d77\\\\u3067\\\\u306f\\\\u3001\\\\u3046\\\\u306d\\\\u308a\\\\u3092\\\\u4f34\\\\u3044\\\\u300112\\\\u65e5\\\\u306f\\\\u3057\\\\u3051\\\\u3068\\\\u306a\\\\u308a\\\\u300113\\\\u65e5\\\\u306f\\\\u6ce2\\\\u304c\\\\u9ad8\\\\u3044\\\\u898b\\\\n\\\\u8fbc\\\\u307f\\\\u3067\\\\u3059\\\\u3002\\\\u307e\\\\u305f\\\\u3001\\\\u6240\\\\u3005\\\\u3067\\\\u9727\\\\u304c\\\\u767a\\\\u751f\\\\u3057\\\\u3066\\\\u3044\\\\u307e\\\\u3059\\\\u3002\\\\u8239\\\\u8236\\\\u306f\\\\u9ad8\\\\u6ce2\\\\u3084\\\\u8996\\\\u7a0b\\\\u969c\\\\u5bb3\\\\u306b\\\\u6ce8\\\\u610f\\\\n\\\\u3057\\\\u3066\\\\u304f\\\\u3060\\\\u3055\\\\u3044\\\\u3002\\\\n\\\\n\\\\u3010\\\\u6771\\\\u4eac\\\\u5730\\\\u65b9\\\\u3011\\\\n 12\\\\u65e5\\\\u306f\\\\u3001\\\\u66c7\\\\u308a\\\\u6642\\\\u3005\\\\u6674\\\\u308c\\\\u3067\\\\u3059\\\\u304c\\\\u3001\\\\u5348\\\\u5f8c\\\\u306f\\\\u96e8\\\\u3084\\\\u96f7\\\\u96e8\\\\u3068\\\\u306a\\\\u308b\\\\u6240\\\\u304c\\\\u3042\\\\u308a\\\\u3001\\\\u5915\\\\u65b9\\\\u306f\\\\n\\\\u6fc0\\\\u3057\\\\u304f\\\\u964d\\\\u308b\\\\u6240\\\\u3082\\\\u3042\\\\u308b\\\\u898b\\\\u8fbc\\\\u307f\\\\u3067\\\\u3059\\\\u3002\\\\u6771\\\\u4eac\\\\u90fd\\\\u3067\\\\u306f\\\\u9ad8\\\\u6e29\\\\u304c\\\\u4e88\\\\u60f3\\\\u3055\\\\u308c\\\\u307e\\\\u3059\\\\u3002\\\\u71b1\\\\u4e2d\\\\u75c7\\\\u306a\\\\n\\\\u3069\\\\u306e\\\\u5065\\\\u5eb7\\\\u7ba1\\\\u7406\\\\u306b\\\\u6ce8\\\\u610f\\\\u3057\\\\u3066\\\\u304f\\\\u3060\\\\u3055\\\\u3044\\\\u3002\\\\n 13\\\\u65e5\\\\u306f\\\\u3001\\\\u6674\\\\u308c\\\\u3067\\\\u5915\\\\u65b9\\\\u304b\\\\u3089\\\\u66c7\\\\u308a\\\\u3068\\\\u306a\\\\u308b\\\\u898b\\\\u8fbc\\\\u307f\\\\u3067\\\\u3059\\\\u3002\",\"publicTime\":\"2018-06-12T10:51:00\\\\u002b0900\"}}'"
      ]
     },
     "execution_count": 10,
     "metadata": {},
     "output_type": "execute_result"
    }
   ],
   "source": [
    "d"
   ]
  },
  {
   "cell_type": "code",
   "execution_count": 11,
   "metadata": {},
   "outputs": [],
   "source": [
    "import json\n",
    "q = json.loads(d)"
   ]
  },
  {
   "cell_type": "code",
   "execution_count": 12,
   "metadata": {},
   "outputs": [
    {
     "data": {
      "text/plain": [
       "dict"
      ]
     },
     "execution_count": 12,
     "metadata": {},
     "output_type": "execute_result"
    }
   ],
   "source": [
    "type(q)"
   ]
  },
  {
   "cell_type": "code",
   "execution_count": 13,
   "metadata": {},
   "outputs": [
    {
     "data": {
      "text/plain": [
       "dict_keys(['pinpointLocations', 'link', 'forecasts', 'location', 'publicTime', 'copyright', 'title', 'description'])"
      ]
     },
     "execution_count": 13,
     "metadata": {},
     "output_type": "execute_result"
    }
   ],
   "source": [
    "q.keys()"
   ]
  },
  {
   "cell_type": "code",
   "execution_count": 14,
   "metadata": {},
   "outputs": [
    {
     "data": {
      "text/plain": [
       "[{'date': '2018-06-12',\n",
       "  'dateLabel': '今日',\n",
       "  'image': {'height': 31,\n",
       "   'title': '曇り',\n",
       "   'url': 'http://weather.livedoor.com/img/icon/8.gif',\n",
       "   'width': 50},\n",
       "  'telop': '曇り',\n",
       "  'temperature': {'max': {'celsius': '25', 'fahrenheit': '77.0'},\n",
       "   'min': None}},\n",
       " {'date': '2018-06-13',\n",
       "  'dateLabel': '明日',\n",
       "  'image': {'height': 31,\n",
       "   'title': '晴時々曇',\n",
       "   'url': 'http://weather.livedoor.com/img/icon/2.gif',\n",
       "   'width': 50},\n",
       "  'telop': '晴時々曇',\n",
       "  'temperature': {'max': {'celsius': '25', 'fahrenheit': '77.0'},\n",
       "   'min': {'celsius': '21', 'fahrenheit': '69.8'}}},\n",
       " {'date': '2018-06-14',\n",
       "  'dateLabel': '明後日',\n",
       "  'image': {'height': 31,\n",
       "   'title': '曇時々晴',\n",
       "   'url': 'http://weather.livedoor.com/img/icon/9.gif',\n",
       "   'width': 50},\n",
       "  'telop': '曇時々晴',\n",
       "  'temperature': {'max': None, 'min': None}}]"
      ]
     },
     "execution_count": 14,
     "metadata": {},
     "output_type": "execute_result"
    }
   ],
   "source": [
    "q['forecasts']"
   ]
  },
  {
   "cell_type": "code",
   "execution_count": 15,
   "metadata": {},
   "outputs": [
    {
     "data": {
      "text/plain": [
       "list"
      ]
     },
     "execution_count": 15,
     "metadata": {},
     "output_type": "execute_result"
    }
   ],
   "source": [
    "type(q['forecasts'])"
   ]
  },
  {
   "cell_type": "code",
   "execution_count": null,
   "metadata": {},
   "outputs": [],
   "source": []
  }
 ],
 "metadata": {
  "kernelspec": {
   "display_name": "Python 3",
   "language": "python",
   "name": "python3"
  },
  "language_info": {
   "codemirror_mode": {
    "name": "ipython",
    "version": 3
   },
   "file_extension": ".py",
   "mimetype": "text/x-python",
   "name": "python",
   "nbconvert_exporter": "python",
   "pygments_lexer": "ipython3",
   "version": "3.6.4"
  }
 },
 "nbformat": 4,
 "nbformat_minor": 2
}
