{
 "cells": [
  {
   "cell_type": "markdown",
   "metadata": {},
   "source": [
    "# 演習 1-3"
   ]
  },
  {
   "cell_type": "code",
   "execution_count": 2,
   "metadata": {},
   "outputs": [],
   "source": [
    "import urllib.request"
   ]
  },
  {
   "cell_type": "code",
   "execution_count": 4,
   "metadata": {},
   "outputs": [],
   "source": [
    "src = 'http://weather.livedoor.com/forecast/webservice/json/v1?city=400040'\n",
    "f = urllib.request.urlopen(src)\n",
    "data = f.read()\n",
    "f.close()\n",
    "# ここまで演習1-1 とほぼ同じ書き方"
   ]
  },
  {
   "cell_type": "code",
   "execution_count": 5,
   "metadata": {},
   "outputs": [
    {
     "data": {
      "text/plain": [
       "b'{\"pinpointLocations\":[{\"link\":\"http://weather.livedoor.com/area/forecast/4020200\",\"name\":\"\\\\u5927\\\\u725f\\\\u7530\\\\u5e02\"},{\"link\":\"http://weather.livedoor.com/area/forecast/4020300\",\"name\":\"\\\\u4e45\\\\u7559\\\\u7c73\\\\u5e02\"},{\"link\":\"http://weather.livedoor.com/area/forecast/4020700\",\"name\":\"\\\\u67f3\\\\u5ddd\\\\u5e02\"},{\"link\":\"http://weather.livedoor.com/area/forecast/4021000\",\"name\":\"\\\\u516b\\\\u5973\\\\u5e02\"},{\"link\":\"http://weather.livedoor.com/area/forecast/4021100\",\"name\":\"\\\\u7b51\\\\u5f8c\\\\u5e02\"},{\"link\":\"http://weather.livedoor.com/area/forecast/4021200\",\"name\":\"\\\\u5927\\\\u5ddd\\\\u5e02\"},{\"link\":\"http://weather.livedoor.com/area/forecast/4021600\",\"name\":\"\\\\u5c0f\\\\u90e1\\\\u5e02\"},{\"link\":\"http://weather.livedoor.com/area/forecast/4022500\",\"name\":\"\\\\u3046\\\\u304d\\\\u306f\\\\u5e02\"},{\"link\":\"http://weather.livedoor.com/area/forecast/4022800\",\"name\":\"\\\\u671d\\\\u5009\\\\u5e02\"},{\"link\":\"http://weather.livedoor.com/area/forecast/4022900\",\"name\":\"\\\\u307f\\\\u3084\\\\u307e\\\\u5e02\"},{\"link\":\"http://weather.livedoor.com/area/forecast/4044700\",\"name\":\"\\\\u7b51\\\\u524d\\\\u753a\"},{\"link\":\"http://weather.livedoor.com/area/forecast/4044800\",\"name\":\"\\\\u6771\\\\u5cf0\\\\u6751\"},{\"link\":\"http://weather.livedoor.com/area/forecast/4050300\",\"name\":\"\\\\u5927\\\\u5200\\\\u6d17\\\\u753a\"},{\"link\":\"http://weather.livedoor.com/area/forecast/4052200\",\"name\":\"\\\\u5927\\\\u6728\\\\u753a\"},{\"link\":\"http://weather.livedoor.com/area/forecast/4054400\",\"name\":\"\\\\u5e83\\\\u5ddd\\\\u753a\"}],\"link\":\"http://weather.livedoor.com/area/forecast/400040\",\"forecasts\":[{\"dateLabel\":\"\\\\u4eca\\\\u65e5\",\"telop\":\"\\\\u66c7\\\\u308a\",\"date\":\"2018-06-18\",\"temperature\":{\"min\":null,\"max\":{\"celsius\":\"31\",\"fahrenheit\":\"87.8\"}},\"image\":{\"width\":50,\"url\":\"http://weather.livedoor.com/img/icon/8.gif\",\"title\":\"\\\\u66c7\\\\u308a\",\"height\":31}},{\"dateLabel\":\"\\\\u660e\\\\u65e5\",\"telop\":\"\\\\u66c7\\\\u306e\\\\u3061\\\\u96e8\",\"date\":\"2018-06-19\",\"temperature\":{\"min\":{\"celsius\":\"22\",\"fahrenheit\":\"71.6\"},\"max\":{\"celsius\":\"29\",\"fahrenheit\":\"84.2\"}},\"image\":{\"width\":50,\"url\":\"http://weather.livedoor.com/img/icon/13.gif\",\"title\":\"\\\\u66c7\\\\u306e\\\\u3061\\\\u96e8\",\"height\":31}},{\"dateLabel\":\"\\\\u660e\\\\u5f8c\\\\u65e5\",\"telop\":\"\\\\u66c7\\\\u6642\\\\u3005\\\\u96e8\",\"date\":\"2018-06-20\",\"temperature\":{\"min\":null,\"max\":null},\"image\":{\"width\":50,\"url\":\"http://weather.livedoor.com/img/icon/10.gif\",\"title\":\"\\\\u66c7\\\\u6642\\\\u3005\\\\u96e8\",\"height\":31}}],\"location\":{\"city\":\"\\\\u4e45\\\\u7559\\\\u7c73\",\"area\":\"\\\\u4e5d\\\\u5dde\",\"prefecture\":\"\\\\u798f\\\\u5ca1\\\\u770c\"},\"publicTime\":\"2018-06-18T11:00:00\\\\u002b0900\",\"copyright\":{\"provider\":[{\"link\":\"http://tenki.jp/\",\"name\":\"\\\\u65e5\\\\u672c\\\\u6c17\\\\u8c61\\\\u5354\\\\u4f1a\"}],\"link\":\"http://weather.livedoor.com/\",\"title\":\"(C) LINE Corporation\",\"image\":{\"width\":118,\"link\":\"http://weather.livedoor.com/\",\"url\":\"http://weather.livedoor.com/img/cmn/livedoor.gif\",\"title\":\"livedoor \\\\u5929\\\\u6c17\\\\u60c5\\\\u5831\",\"height\":26}},\"title\":\"\\\\u798f\\\\u5ca1\\\\u770c \\\\u4e45\\\\u7559\\\\u7c73 \\\\u306e\\\\u5929\\\\u6c17\",\"description\":{\"text\":\" \\\\u4e5d\\\\u5dde\\\\u5317\\\\u90e8\\\\u5730\\\\u65b9\\\\u306f\\\\u3001\\\\u6c17\\\\u5727\\\\u306e\\\\u8c37\\\\u3084\\\\u6e7f\\\\u3063\\\\u305f\\\\u7a7a\\\\u6c17\\\\u306e\\\\u5f71\\\\u97ff\\\\u306b\\\\u3088\\\\u308a\\\\u3001\\\\u66c7\\\\u308a\\\\u3067\\\\u96e8\\\\u304c\\\\u964d\\\\u3063\\\\u3066\\\\n\\\\u3044\\\\u308b\\\\u6240\\\\u304c\\\\u3042\\\\u308a\\\\u307e\\\\u3059\\\\u3002\\\\n\\\\n 18\\\\u65e5\\\\u306e\\\\u4e5d\\\\u5dde\\\\u5317\\\\u90e8\\\\u5730\\\\u65b9\\\\u306f\\\\u3001\\\\u6c17\\\\u5727\\\\u306e\\\\u8c37\\\\u3084\\\\u6e7f\\\\u3063\\\\u305f\\\\u7a7a\\\\u6c17\\\\u306e\\\\u5f71\\\\u97ff\\\\u306b\\\\u3088\\\\u308a\\\\u3001\\\\u6982\\\\u306d\\\\u66c7\\\\u308a\\\\n\\\\u3067\\\\u663c\\\\u904e\\\\u304e\\\\u304b\\\\u3089\\\\u591c\\\\u306e\\\\u306f\\\\u3058\\\\u3081\\\\u9803\\\\u306b\\\\u304b\\\\u3051\\\\u3066\\\\u96f7\\\\u3092\\\\u4f34\\\\u3063\\\\u305f\\\\u6fc0\\\\u3057\\\\u3044\\\\u96e8\\\\u304c\\\\u964d\\\\u308b\\\\u6240\\\\u304c\\\\u3042\\\\u308b\\\\u3067\\\\u3057\\\\n\\\\u3087\\\\u3046\\\\u3002\\\\n \\\\u798f\\\\u5ca1\\\\u770c\\\\u3067\\\\u306f\\\\u9ad8\\\\u6e29\\\\u304c\\\\u4e88\\\\u60f3\\\\u3055\\\\u308c\\\\u308b\\\\u305f\\\\u3081\\\\u3001\\\\u71b1\\\\u4e2d\\\\u75c7\\\\u306a\\\\u3069\\\\u5065\\\\u5eb7\\\\u7ba1\\\\u7406\\\\u306b\\\\u6ce8\\\\u610f\\\\u3057\\\\u3066\\\\u304f\\\\u3060\\\\u3055\\\\n\\\\u3044\\\\u3002\\\\n\\\\n 19\\\\u65e5\\\\u306e\\\\u4e5d\\\\u5dde\\\\u5317\\\\u90e8\\\\u5730\\\\u65b9\\\\u306f\\\\u3001\\\\u524d\\\\u7dda\\\\u3084\\\\u6e7f\\\\u3063\\\\u305f\\\\u7a7a\\\\u6c17\\\\u306e\\\\u5f71\\\\u97ff\\\\u306b\\\\u3088\\\\u308a\\\\u3001\\\\u66c7\\\\u308a\\\\u3067\\\\u6b21\\\\u7b2c\\\\u306b\\\\n\\\\u96e8\\\\u3068\\\\u306a\\\\u308a\\\\u96f7\\\\u3092\\\\u4f34\\\\u3044\\\\u6fc0\\\\u3057\\\\u304f\\\\u964d\\\\u308b\\\\u6240\\\\u304c\\\\u3042\\\\u308b\\\\u3067\\\\u3057\\\\u3087\\\\u3046\\\\u3002\\\\n\\\\n \\\\u6ce2\\\\u306e\\\\u9ad8\\\\u3055\\\\u306f\\\\u3001\\\\u5bfe\\\\u99ac\\\\u6d77\\\\u5ce1\\\\u3067\\\\u306f\\\\u300118\\\\u65e5\\\\u306819\\\\u65e5\\\\u306f1\\\\u30e1\\\\u30fc\\\\u30c8\\\\u30eb\\\\u3067\\\\u3057\\\\u3087\\\\u3046\\\\u3002\\\\u4e5d\\\\u5dde\\\\n\\\\u897f\\\\u6d77\\\\u4e0a\\\\u3067\\\\u306f\\\\u300118\\\\u65e5\\\\u306f1\\\\u30e1\\\\u30fc\\\\u30c8\\\\u30eb\\\\u300119\\\\u65e5\\\\u306f1.5\\\\u30e1\\\\u30fc\\\\u30c8\\\\u30eb\\\\u3067\\\\u3057\\\\u3087\\\\u3046\\\\u3002\\\\u8c4a\\\\u5f8c\\\\n\\\\u6c34\\\\u9053\\\\u3067\\\\u306f\\\\u300118\\\\u65e5\\\\u306f2\\\\u30e1\\\\u30fc\\\\u30c8\\\\u30eb\\\\u300119\\\\u65e5\\\\u306f1.5\\\\u30e1\\\\u30fc\\\\u30c8\\\\u30eb\\\\u3067\\\\u3001\\\\u5171\\\\u306b\\\\u3046\\\\u306d\\\\u308a\\\\u3092\\\\n\\\\u4f34\\\\u3046\\\\u3067\\\\u3057\\\\u3087\\\\u3046\\\\u3002\\\\n \\\\u798f\\\\u5ca1\\\\u770c\\\\u306e\\\\u5185\\\\u6d77\\\\u3067\\\\u306f\\\\u300118\\\\u65e5\\\\u306819\\\\u65e5\\\\u306f0.5\\\\u30e1\\\\u30fc\\\\u30c8\\\\u30eb\\\\u3067\\\\u3057\\\\u3087\\\\u3046\\\\u3002\\\\n\\\\n\\\\u003c\\\\u5929\\\\u6c17\\\\u5909\\\\u5316\\\\u7b49\\\\u306e\\\\u7559\\\\u610f\\\\u70b9\\\\u003e\\\\n \\\\u7b51\\\\u5f8c\\\\u5317\\\\u90e8\\\\u306718\\\\u65e512\\\\u6642\\\\u304b\\\\u308919\\\\u65e512\\\\u6642\\\\u307e\\\\u3067\\\\u306e\\\\u964d\\\\u6c34\\\\u91cf\\\\u306f\\\\u3001\\\\u591a\\\\u3044\\\\u6240\\\\u30671\\\\u6642\\\\n\\\\u9593\\\\u306b20\\\\u30df\\\\u30ea\\\\u300124\\\\u6642\\\\u9593\\\\u306b30\\\\u30df\\\\u30ea\\\\u306e\\\\u898b\\\\u8fbc\\\\u307f\\\\u3067\\\\u3059\\\\u3002\",\"publicTime\":\"2018-06-18T10:36:00\\\\u002b0900\"}}'"
      ]
     },
     "execution_count": 5,
     "metadata": {},
     "output_type": "execute_result"
    }
   ],
   "source": [
    "data"
   ]
  },
  {
   "cell_type": "code",
   "execution_count": 6,
   "metadata": {},
   "outputs": [
    {
     "data": {
      "text/plain": [
       "bytes"
      ]
     },
     "execution_count": 6,
     "metadata": {},
     "output_type": "execute_result"
    }
   ],
   "source": [
    "type(data)"
   ]
  },
  {
   "cell_type": "code",
   "execution_count": 7,
   "metadata": {},
   "outputs": [],
   "source": [
    "import json\n",
    "q = json.loads(data)"
   ]
  },
  {
   "cell_type": "code",
   "execution_count": 8,
   "metadata": {},
   "outputs": [
    {
     "data": {
      "text/plain": [
       "{'copyright': {'image': {'height': 26,\n",
       "   'link': 'http://weather.livedoor.com/',\n",
       "   'title': 'livedoor 天気情報',\n",
       "   'url': 'http://weather.livedoor.com/img/cmn/livedoor.gif',\n",
       "   'width': 118},\n",
       "  'link': 'http://weather.livedoor.com/',\n",
       "  'provider': [{'link': 'http://tenki.jp/', 'name': '日本気象協会'}],\n",
       "  'title': '(C) LINE Corporation'},\n",
       " 'description': {'publicTime': '2018-06-18T10:36:00+0900',\n",
       "  'text': ' 九州北部地方は、気圧の谷や湿った空気の影響により、曇りで雨が降って\\nいる所があります。\\n\\n 18日の九州北部地方は、気圧の谷や湿った空気の影響により、概ね曇り\\nで昼過ぎから夜のはじめ頃にかけて雷を伴った激しい雨が降る所があるでし\\nょう。\\n 福岡県では高温が予想されるため、熱中症など健康管理に注意してくださ\\nい。\\n\\n 19日の九州北部地方は、前線や湿った空気の影響により、曇りで次第に\\n雨となり雷を伴い激しく降る所があるでしょう。\\n\\n 波の高さは、対馬海峡では、18日と19日は1メートルでしょう。九州\\n西海上では、18日は1メートル、19日は1.5メートルでしょう。豊後\\n水道では、18日は2メートル、19日は1.5メートルで、共にうねりを\\n伴うでしょう。\\n 福岡県の内海では、18日と19日は0.5メートルでしょう。\\n\\n<天気変化等の留意点>\\n 筑後北部で18日12時から19日12時までの降水量は、多い所で1時\\n間に20ミリ、24時間に30ミリの見込みです。'},\n",
       " 'forecasts': [{'date': '2018-06-18',\n",
       "   'dateLabel': '今日',\n",
       "   'image': {'height': 31,\n",
       "    'title': '曇り',\n",
       "    'url': 'http://weather.livedoor.com/img/icon/8.gif',\n",
       "    'width': 50},\n",
       "   'telop': '曇り',\n",
       "   'temperature': {'max': {'celsius': '31', 'fahrenheit': '87.8'},\n",
       "    'min': None}},\n",
       "  {'date': '2018-06-19',\n",
       "   'dateLabel': '明日',\n",
       "   'image': {'height': 31,\n",
       "    'title': '曇のち雨',\n",
       "    'url': 'http://weather.livedoor.com/img/icon/13.gif',\n",
       "    'width': 50},\n",
       "   'telop': '曇のち雨',\n",
       "   'temperature': {'max': {'celsius': '29', 'fahrenheit': '84.2'},\n",
       "    'min': {'celsius': '22', 'fahrenheit': '71.6'}}},\n",
       "  {'date': '2018-06-20',\n",
       "   'dateLabel': '明後日',\n",
       "   'image': {'height': 31,\n",
       "    'title': '曇時々雨',\n",
       "    'url': 'http://weather.livedoor.com/img/icon/10.gif',\n",
       "    'width': 50},\n",
       "   'telop': '曇時々雨',\n",
       "   'temperature': {'max': None, 'min': None}}],\n",
       " 'link': 'http://weather.livedoor.com/area/forecast/400040',\n",
       " 'location': {'area': '九州', 'city': '久留米', 'prefecture': '福岡県'},\n",
       " 'pinpointLocations': [{'link': 'http://weather.livedoor.com/area/forecast/4020200',\n",
       "   'name': '大牟田市'},\n",
       "  {'link': 'http://weather.livedoor.com/area/forecast/4020300',\n",
       "   'name': '久留米市'},\n",
       "  {'link': 'http://weather.livedoor.com/area/forecast/4020700', 'name': '柳川市'},\n",
       "  {'link': 'http://weather.livedoor.com/area/forecast/4021000', 'name': '八女市'},\n",
       "  {'link': 'http://weather.livedoor.com/area/forecast/4021100', 'name': '筑後市'},\n",
       "  {'link': 'http://weather.livedoor.com/area/forecast/4021200', 'name': '大川市'},\n",
       "  {'link': 'http://weather.livedoor.com/area/forecast/4021600', 'name': '小郡市'},\n",
       "  {'link': 'http://weather.livedoor.com/area/forecast/4022500',\n",
       "   'name': 'うきは市'},\n",
       "  {'link': 'http://weather.livedoor.com/area/forecast/4022800', 'name': '朝倉市'},\n",
       "  {'link': 'http://weather.livedoor.com/area/forecast/4022900',\n",
       "   'name': 'みやま市'},\n",
       "  {'link': 'http://weather.livedoor.com/area/forecast/4044700', 'name': '筑前町'},\n",
       "  {'link': 'http://weather.livedoor.com/area/forecast/4044800', 'name': '東峰村'},\n",
       "  {'link': 'http://weather.livedoor.com/area/forecast/4050300',\n",
       "   'name': '大刀洗町'},\n",
       "  {'link': 'http://weather.livedoor.com/area/forecast/4052200', 'name': '大木町'},\n",
       "  {'link': 'http://weather.livedoor.com/area/forecast/4054400',\n",
       "   'name': '広川町'}],\n",
       " 'publicTime': '2018-06-18T11:00:00+0900',\n",
       " 'title': '福岡県 久留米 の天気'}"
      ]
     },
     "execution_count": 8,
     "metadata": {},
     "output_type": "execute_result"
    }
   ],
   "source": [
    "q"
   ]
  },
  {
   "cell_type": "code",
   "execution_count": 9,
   "metadata": {},
   "outputs": [
    {
     "ename": "KeyError",
     "evalue": "'text'",
     "output_type": "error",
     "traceback": [
      "\u001b[0;31m----------------------------------------------------\u001b[0m",
      "\u001b[0;31mKeyError\u001b[0m           Traceback (most recent call last)",
      "\u001b[0;32m<ipython-input-9-e6a65d48c95d>\u001b[0m in \u001b[0;36m<module>\u001b[0;34m()\u001b[0m\n\u001b[0;32m----> 1\u001b[0;31m \u001b[0mq\u001b[0m\u001b[0;34m[\u001b[0m\u001b[0;34m'text'\u001b[0m\u001b[0;34m]\u001b[0m\u001b[0;34m\u001b[0m\u001b[0m\n\u001b[0m",
      "\u001b[0;31mKeyError\u001b[0m: 'text'"
     ]
    }
   ],
   "source": [
    "q['text']"
   ]
  },
  {
   "cell_type": "code",
   "execution_count": 12,
   "metadata": {},
   "outputs": [
    {
     "data": {
      "text/plain": [
       "' 九州北部地方は、気圧の谷や湿った空気の影響により、曇りで雨が降って\\nいる所があります。\\n\\n 18日の九州北部地方は、気圧の谷や湿った空気の影響により、概ね曇り\\nで昼過ぎから夜のはじめ頃にかけて雷を伴った激しい雨が降る所があるでし\\nょう。\\n 福岡県では高温が予想されるため、熱中症など健康管理に注意してくださ\\nい。\\n\\n 19日の九州北部地方は、前線や湿った空気の影響により、曇りで次第に\\n雨となり雷を伴い激しく降る所があるでしょう。\\n\\n 波の高さは、対馬海峡では、18日と19日は1メートルでしょう。九州\\n西海上では、18日は1メートル、19日は1.5メートルでしょう。豊後\\n水道では、18日は2メートル、19日は1.5メートルで、共にうねりを\\n伴うでしょう。\\n 福岡県の内海では、18日と19日は0.5メートルでしょう。\\n\\n<天気変化等の留意点>\\n 筑後北部で18日12時から19日12時までの降水量は、多い所で1時\\n間に20ミリ、24時間に30ミリの見込みです。'"
      ]
     },
     "execution_count": 12,
     "metadata": {},
     "output_type": "execute_result"
    }
   ],
   "source": [
    "q['description']['text']"
   ]
  },
  {
   "cell_type": "code",
   "execution_count": 13,
   "metadata": {},
   "outputs": [
    {
     "name": "stdout",
     "output_type": "stream",
     "text": [
      " 九州北部地方は、気圧の谷や湿った空気の影響により、曇りで雨が降って\n",
      "いる所があります。\n",
      "\n",
      " 18日の九州北部地方は、気圧の谷や湿った空気の影響により、概ね曇り\n",
      "で昼過ぎから夜のはじめ頃にかけて雷を伴った激しい雨が降る所があるでし\n",
      "ょう。\n",
      " 福岡県では高温が予想されるため、熱中症など健康管理に注意してくださ\n",
      "い。\n",
      "\n",
      " 19日の九州北部地方は、前線や湿った空気の影響により、曇りで次第に\n",
      "雨となり雷を伴い激しく降る所があるでしょう。\n",
      "\n",
      " 波の高さは、対馬海峡では、18日と19日は1メートルでしょう。九州\n",
      "西海上では、18日は1メートル、19日は1.5メートルでしょう。豊後\n",
      "水道では、18日は2メートル、19日は1.5メートルで、共にうねりを\n",
      "伴うでしょう。\n",
      " 福岡県の内海では、18日と19日は0.5メートルでしょう。\n",
      "\n",
      "<天気変化等の留意点>\n",
      " 筑後北部で18日12時から19日12時までの降水量は、多い所で1時\n",
      "間に20ミリ、24時間に30ミリの見込みです。\n"
     ]
    }
   ],
   "source": [
    "print(q['description']['text'])"
   ]
  },
  {
   "cell_type": "markdown",
   "metadata": {},
   "source": [
    "## 関数"
   ]
  },
  {
   "cell_type": "markdown",
   "metadata": {},
   "source": [
    "`def` キーワードを使い、インデントを用いることで関数設定可能"
   ]
  },
  {
   "cell_type": "code",
   "execution_count": 16,
   "metadata": {},
   "outputs": [],
   "source": [
    "def testfunc():\n",
    "    print('test function')"
   ]
  },
  {
   "cell_type": "code",
   "execution_count": 18,
   "metadata": {},
   "outputs": [
    {
     "name": "stdout",
     "output_type": "stream",
     "text": [
      "test function\n"
     ]
    }
   ],
   "source": [
    "testfunc()"
   ]
  },
  {
   "cell_type": "code",
   "execution_count": 19,
   "metadata": {},
   "outputs": [],
   "source": [
    "def test2(param):\n",
    "    print('test2: %s' % (param))"
   ]
  },
  {
   "cell_type": "code",
   "execution_count": 20,
   "metadata": {},
   "outputs": [
    {
     "name": "stdout",
     "output_type": "stream",
     "text": [
      "test2: hoge\n"
     ]
    }
   ],
   "source": [
    "test2('hoge')"
   ]
  },
  {
   "cell_type": "markdown",
   "metadata": {},
   "source": [
    "## 返り値"
   ]
  },
  {
   "cell_type": "code",
   "execution_count": 22,
   "metadata": {},
   "outputs": [],
   "source": [
    "def Csize(r=2.0):\n",
    "    return r * r * 3.141592 # 円の面積"
   ]
  },
  {
   "cell_type": "code",
   "execution_count": 24,
   "metadata": {},
   "outputs": [
    {
     "data": {
      "text/plain": [
       "50.265472"
      ]
     },
     "execution_count": 24,
     "metadata": {},
     "output_type": "execute_result"
    }
   ],
   "source": [
    "Csize(4)"
   ]
  },
  {
   "cell_type": "code",
   "execution_count": null,
   "metadata": {},
   "outputs": [],
   "source": []
  }
 ],
 "metadata": {
  "kernelspec": {
   "display_name": "Python 3",
   "language": "python",
   "name": "python3"
  },
  "language_info": {
   "codemirror_mode": {
    "name": "ipython",
    "version": 3
   },
   "file_extension": ".py",
   "mimetype": "text/x-python",
   "name": "python",
   "nbconvert_exporter": "python",
   "pygments_lexer": "ipython3",
   "version": "3.6.4"
  }
 },
 "nbformat": 4,
 "nbformat_minor": 2
}
